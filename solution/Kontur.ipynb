{
 "cells": [
  {
   "cell_type": "markdown",
   "id": "c19bfaf6",
   "metadata": {
    "id": "c19bfaf6"
   },
   "source": [
    "# Загружаем необходимые библиотеки."
   ]
  },
  {
   "cell_type": "code",
   "execution_count": 56,
   "id": "2c0f226f",
   "metadata": {
    "colab": {
     "base_uri": "https://localhost:8080/"
    },
    "executionInfo": {
     "elapsed": 2527,
     "status": "ok",
     "timestamp": 1682088524508,
     "user": {
      "displayName": "Артём Боярских",
      "userId": "01511435426842503631"
     },
     "user_tz": -180
    },
    "id": "2c0f226f",
    "outputId": "510169ff-2332-402b-e30f-05e1dcf05e4b"
   },
   "outputs": [
    {
     "name": "stderr",
     "output_type": "stream",
     "text": [
      "[nltk_data] Downloading package punkt to\n",
      "[nltk_data]     /home/boyarskikhae/nltk_data...\n",
      "[nltk_data]   Package punkt is already up-to-date!\n",
      "[nltk_data] Downloading package stopwords to\n",
      "[nltk_data]     /home/boyarskikhae/nltk_data...\n",
      "[nltk_data]   Package stopwords is already up-to-date!\n"
     ]
    }
   ],
   "source": [
    "import json, pandas as pd, re, nltk\n",
    "\n",
    "from collections import Counter\n",
    "\n",
    "from nltk.tokenize import word_tokenize\n",
    "nltk.download('punkt')\n",
    "\n",
    "from nltk.corpus import stopwords\n",
    "nltk.download(\"stopwords\")\n",
    "stopwords_russian = stopwords.words(\"russian\")\n",
    "\n",
    "from tqdm import tqdm\n",
    "tqdm.pandas()"
   ]
  },
  {
   "cell_type": "markdown",
   "id": "b64694bb",
   "metadata": {
    "id": "b64694bb"
   },
   "source": [
    "# Получаем данные."
   ]
  },
  {
   "cell_type": "code",
   "execution_count": 57,
   "id": "10e746b3",
   "metadata": {
    "id": "10e746b3"
   },
   "outputs": [],
   "source": [
    "df_train = pd.read_json(\"../train.json\")\n",
    "df_test = pd.read_json(\"../test.json\")"
   ]
  },
  {
   "cell_type": "markdown",
   "id": "41d94df1",
   "metadata": {
    "id": "41d94df1"
   },
   "source": [
    "# Explanatory data analysis."
   ]
  },
  {
   "cell_type": "markdown",
   "id": "2ff28682",
   "metadata": {
    "id": "2ff28682"
   },
   "source": [
    "## df_train."
   ]
  },
  {
   "cell_type": "code",
   "execution_count": 58,
   "id": "c45a77fd",
   "metadata": {
    "colab": {
     "base_uri": "https://localhost:8080/"
    },
    "executionInfo": {
     "elapsed": 15,
     "status": "ok",
     "timestamp": 1682088524511,
     "user": {
      "displayName": "Артём Боярских",
      "userId": "01511435426842503631"
     },
     "user_tz": -180
    },
    "id": "c45a77fd",
    "outputId": "cd2546c2-0fc0-426d-f2b2-91ee34e92857",
    "scrolled": true
   },
   "outputs": [
    {
     "name": "stdout",
     "output_type": "stream",
     "text": [
      "<class 'pandas.core.frame.DataFrame'>\n",
      "RangeIndex: 1799 entries, 0 to 1798\n",
      "Data columns (total 4 columns):\n",
      " #   Column          Non-Null Count  Dtype \n",
      "---  ------          --------------  ----- \n",
      " 0   id              1799 non-null   int64 \n",
      " 1   text            1799 non-null   object\n",
      " 2   label           1799 non-null   object\n",
      " 3   extracted_part  1799 non-null   object\n",
      "dtypes: int64(1), object(3)\n",
      "memory usage: 56.3+ KB\n",
      "\n",
      "\n",
      "обеспечение исполнения контракта        988\n",
      "обеспечение гарантийных обязательств    811\n",
      "Name: label, dtype: int64\n"
     ]
    }
   ],
   "source": [
    "df_train.info()\n",
    "\n",
    "print(\"\\n\")\n",
    "print(df_train[\"label\"].value_counts())"
   ]
  },
  {
   "cell_type": "markdown",
   "id": "rf-RgFpW2Dpm",
   "metadata": {
    "id": "rf-RgFpW2Dpm"
   },
   "source": [
    "## Проверим, какие слова чаще всего встречаются в колонке \"extracted_part\"."
   ]
  },
  {
   "cell_type": "code",
   "execution_count": 59,
   "id": "Kg5xip8cuY1D",
   "metadata": {
    "colab": {
     "base_uri": "https://localhost:8080/"
    },
    "executionInfo": {
     "elapsed": 1596,
     "status": "ok",
     "timestamp": 1682088681713,
     "user": {
      "displayName": "Артём Боярских",
      "userId": "01511435426842503631"
     },
     "user_tz": -180
    },
    "id": "Kg5xip8cuY1D",
    "outputId": "515913e5-da24-4f43-af88-0ef230aa259d"
   },
   "outputs": [
    {
     "data": {
      "text/plain": [
       "[('исполнения', 1046),\n",
       " ('обеспечения', 1003),\n",
       " ('Размер', 930),\n",
       " ('цены', 924),\n",
       " ('контракта', 720),\n",
       " ('договора', 696),\n",
       " ('начальной', 680),\n",
       " ('максимальной', 679),\n",
       " ('обязательств', 542),\n",
       " ('гарантийных', 525),\n",
       " ('размере', 453),\n",
       " ('составляет', 431),\n",
       " ('Контракта', 338),\n",
       " ('Обеспечение', 271),\n",
       " ('Российский', 258),\n",
       " ('рубль', 258),\n",
       " ('обеспечение', 249),\n",
       " ('устанавливается', 197),\n",
       " ('Договора', 181),\n",
       " ('рублей', 178)]"
      ]
     },
     "execution_count": 59,
     "metadata": {},
     "output_type": "execute_result"
    }
   ],
   "source": [
    "extracted_parts = list(df_train[\"extracted_part\"])\n",
    "extracted_text = []\n",
    "\n",
    "for part in extracted_parts:\n",
    "    extracted_text.append(part[\"text\"][0])\n",
    "\n",
    "def process_extracted_text(text):\n",
    "    text = \" \".join(text)\n",
    "    text = re.sub(r\"[^А-Яа-я]\", \" \", text)\n",
    "    word_tokens = word_tokenize(text)\n",
    "    return ([word_token for word_token in word_tokens if word_token not in stopwords_russian]) \n",
    "\n",
    "extracted_text = process_extracted_text(extracted_text)\n",
    "\n",
    "Counter(extracted_text).most_common(20)"
   ]
  },
  {
   "cell_type": "markdown",
   "id": "msD6hTtR2cqQ",
   "metadata": {
    "id": "msD6hTtR2cqQ"
   },
   "source": [
    "Дополнительно пробив такие популярные слова как \"Размер\", можно увидеть некоторые закономерности, например, в вычленненом тексте всегда присутствует какое-либо число."
   ]
  },
  {
   "cell_type": "markdown",
   "id": "ac4nBervXCYv",
   "metadata": {
    "id": "ac4nBervXCYv"
   },
   "source": [
    "## df_test."
   ]
  },
  {
   "cell_type": "code",
   "execution_count": 60,
   "id": "7c59446e",
   "metadata": {
    "colab": {
     "base_uri": "https://localhost:8080/"
    },
    "executionInfo": {
     "elapsed": 16,
     "status": "ok",
     "timestamp": 1682088525593,
     "user": {
      "displayName": "Артём Боярских",
      "userId": "01511435426842503631"
     },
     "user_tz": -180
    },
    "id": "7c59446e",
    "outputId": "f9017584-69f1-4d4e-9fac-c02f89954340",
    "scrolled": true
   },
   "outputs": [
    {
     "name": "stdout",
     "output_type": "stream",
     "text": [
      "<class 'pandas.core.frame.DataFrame'>\n",
      "RangeIndex: 318 entries, 0 to 317\n",
      "Data columns (total 3 columns):\n",
      " #   Column  Non-Null Count  Dtype \n",
      "---  ------  --------------  ----- \n",
      " 0   id      318 non-null    int64 \n",
      " 1   text    318 non-null    object\n",
      " 2   label   318 non-null    object\n",
      "dtypes: int64(1), object(2)\n",
      "memory usage: 7.6+ KB\n",
      "\n",
      "\n",
      "обеспечение исполнения контракта        175\n",
      "обеспечение гарантийных обязательств    143\n",
      "Name: label, dtype: int64\n"
     ]
    }
   ],
   "source": [
    "df_test.info()\n",
    "\n",
    "print(\"\\n\")\n",
    "print(df_test[\"label\"].value_counts())"
   ]
  },
  {
   "cell_type": "markdown",
   "id": "e3d4ed44",
   "metadata": {
    "id": "e3d4ed44"
   },
   "source": [
    "# Работаем с регулярными выражениями."
   ]
  },
  {
   "cell_type": "markdown",
   "id": "gXc5rRuk2w1N",
   "metadata": {
    "id": "gXc5rRuk2w1N"
   },
   "source": [
    "## Я заметил два паттерна, которые преобладают в наших данных. Первый паттерн начинается со слова \"Размер\", а второй - со слова \"Обеспечение\"."
   ]
  },
  {
   "cell_type": "code",
   "execution_count": 61,
   "id": "qOFewvNQ92RA",
   "metadata": {
    "id": "qOFewvNQ92RA"
   },
   "outputs": [],
   "source": [
    "oik_razmer = re.compile(\"[Рр]азмер обеспечени[а-я] исполнени[а-я] ([Кк]онтракт[а-я]|[Дд]оговор[а-я])[^\\d]+(\\d|\\.|\\,)+( Российский)?[^А-Я.]+[^А-Я. \\d]+( Договора| Контракта)?\\.?\")\n",
    "ogb_razmer = re.compile(\"(Поставщик|[Рр]азмер) обеспечени[а-я] гарантийных обязательств[^\\d]+(\\d|\\.|\\,)+[^А-Я.]+(Российский рубль)?(НМЦК)?(Договора|Контракта)?\\.?\")\n",
    "oik_caps = re.compile(\"[Оо]беспечени[а-я] исполнени[а-я] (настоящего)?\\s?([Кк]онтракт[а-я]|[Дд]оговор[а-я])[^\\d]+(\\d|\\.|\\,)+[^.,:;]+\\.?\")\n",
    "ogb_caps = re.compile(\"[Оо]беспечени[а-я] гарантийных обязательств[^\\d]+(\\.|\\,|\\d)+[^.,:;]+\\.?\")"
   ]
  },
  {
   "cell_type": "markdown",
   "id": "dtuqkA4DCnf3",
   "metadata": {
    "id": "dtuqkA4DCnf3"
   },
   "source": [
    " ## Используем костыль, чтобы получить паттерн, оканчивающийся на слово \"контракт\", потому что я не смог вычленить его с помощью регулярных выражений."
   ]
  },
  {
   "cell_type": "code",
   "execution_count": 62,
   "id": "TW7j7N7L0BSe",
   "metadata": {
    "id": "TW7j7N7L0BSe"
   },
   "outputs": [],
   "source": [
    "def sub_text(text):\n",
    "    sub_text = re.sub(\"контракта\", \"Контракта\", text)\n",
    "    extracted_part = oik_razmer.search(sub_text).group()\n",
    "    extracted_part = re.sub(\"Контракта\", \"контракта\", extracted_part)\n",
    "    return [extracted_part]"
   ]
  },
  {
   "cell_type": "markdown",
   "id": "Tf9dsRtC3AbI",
   "metadata": {
    "id": "Tf9dsRtC3AbI"
   },
   "source": [
    "## Код функции, которая будет формировать ответ именно в том виде, который прописан в техническом задании."
   ]
  },
  {
   "cell_type": "code",
   "execution_count": 63,
   "id": "BXNJO6pWt6Li",
   "metadata": {
    "id": "BXNJO6pWt6Li"
   },
   "outputs": [],
   "source": [
    "def cut_the_text(text, label):\n",
    "    if label == \"обеспечение исполнения контракта\":\n",
    "        try:\n",
    "            extracted_part = oik_razmer.search(text).group()\n",
    "            answer_end = [list(oik_razmer.search(text).span())[1]]\n",
    "            string_length = len(extracted_part)\n",
    "            # Начало работы костыля.\n",
    "            if re.search(r\".* начальной \\(максимальной\\) цены контракта.*\", extracted_part) != None:\n",
    "                extracted_part = sub_text(text)\n",
    "                new_string_length = len(extracted_part[0])\n",
    "                answer_end = [answer_end[0] - (string_length - new_string_length)]\n",
    "            else: extracted_part = [oik_razmer.search(text).group()]\n",
    "            # Конец работы костыля.\n",
    "            answer_start = [list(oik_razmer.search(text).span())[0]]\n",
    "        except AttributeError:\n",
    "            try:\n",
    "                extracted_part = [oik_caps.search(text).group()]\n",
    "                answer_start = [list(oik_caps.search(text).span())[0]]\n",
    "                answer_end = [list(oik_caps.search(text).span())[1]]\n",
    "            except AttributeError:\n",
    "                extracted_part = [\"\"]\n",
    "                answer_start = [0]\n",
    "                answer_end = [0]\n",
    "    else:\n",
    "        try:\n",
    "            extracted_part = [ogb_razmer.search(text).group()]\n",
    "            answer_start = [list(ogb_razmer.search(text).span())[0]]\n",
    "            answer_end = [list(ogb_razmer.search(text).span())[1]]\n",
    "        except AttributeError:\n",
    "            try:\n",
    "                extracted_part = [ogb_caps.search(text).group()]\n",
    "                answer_start = [list(ogb_caps.search(text).span())[0]]\n",
    "                answer_end = [list(ogb_caps.search(text).span())[1]]\n",
    "            except AttributeError:\n",
    "                extracted_part = [\"\"]\n",
    "                answer_start = [0]\n",
    "                answer_end = [0]\n",
    "    return({\"text\": extracted_part, \"answer_start\": answer_start, \"answer_end\": answer_end})"
   ]
  },
  {
   "cell_type": "markdown",
   "id": "teBST_Jz3HIl",
   "metadata": {
    "id": "teBST_Jz3HIl"
   },
   "source": [
    "## Применим функцию и посчитаем точность на df_train."
   ]
  },
  {
   "cell_type": "code",
   "execution_count": 64,
   "id": "FFDyfpfgK7y8",
   "metadata": {
    "colab": {
     "base_uri": "https://localhost:8080/"
    },
    "executionInfo": {
     "elapsed": 801,
     "status": "ok",
     "timestamp": 1682088568645,
     "user": {
      "displayName": "Артём Боярских",
      "userId": "01511435426842503631"
     },
     "user_tz": -180
    },
    "id": "FFDyfpfgK7y8",
    "outputId": "1cbd99e1-b12c-4643-9b0a-7a04389d23f1"
   },
   "outputs": [
    {
     "name": "stderr",
     "output_type": "stream",
     "text": [
      "100%|████████████████████████████████████| 1799/1799 [00:00<00:00, 10940.64it/s]"
     ]
    },
    {
     "name": "stdout",
     "output_type": "stream",
     "text": [
      "The score is  54.14118954974986\n"
     ]
    },
    {
     "name": "stderr",
     "output_type": "stream",
     "text": [
      "\n"
     ]
    }
   ],
   "source": [
    "df_train[\"new_extracted_part\"] = df_train.progress_apply(lambda x: cut_the_text(x[\"text\"], x[\"label\"]), axis = 1)\n",
    "\n",
    "print(\"The score is \", len(df_train[df_train[\"extracted_part\"] == df_train[\"new_extracted_part\"]])/len(df_train)*100)"
   ]
  },
  {
   "cell_type": "markdown",
   "id": "FvWRiz5d3OUk",
   "metadata": {
    "id": "FvWRiz5d3OUk"
   },
   "source": [
    "## Применим функцию к df_test."
   ]
  },
  {
   "cell_type": "code",
   "execution_count": 65,
   "id": "q7PQbN1f3oaG",
   "metadata": {
    "colab": {
     "base_uri": "https://localhost:8080/"
    },
    "executionInfo": {
     "elapsed": 9,
     "status": "ok",
     "timestamp": 1682088525594,
     "user": {
      "displayName": "Артём Боярских",
      "userId": "01511435426842503631"
     },
     "user_tz": -180
    },
    "id": "q7PQbN1f3oaG",
    "outputId": "5f96dee8-e7ae-4515-fdec-0b37f8c5eb39"
   },
   "outputs": [
    {
     "name": "stderr",
     "output_type": "stream",
     "text": [
      "100%|██████████████████████████████████████| 318/318 [00:00<00:00, 11873.21it/s]\n"
     ]
    }
   ],
   "source": [
    "df_test[\"extracted_part\"] = df_test.progress_apply(lambda x: cut_the_text(x[\"text\"], x[\"label\"]), axis = 1)"
   ]
  },
  {
   "cell_type": "markdown",
   "id": "rlhLslKM3R4A",
   "metadata": {
    "id": "rlhLslKM3R4A"
   },
   "source": [
    "# Формируем ответ."
   ]
  },
  {
   "cell_type": "code",
   "execution_count": 66,
   "id": "U89K4n-e4SKC",
   "metadata": {
    "id": "U89K4n-e4SKC"
   },
   "outputs": [],
   "source": [
    "df_test.to_json(\"../predictions.json\")"
   ]
  }
 ],
 "metadata": {
  "colab": {
   "provenance": []
  },
  "kernelspec": {
   "display_name": "Python 3 (ipykernel)",
   "language": "python",
   "name": "python3"
  },
  "language_info": {
   "codemirror_mode": {
    "name": "ipython",
    "version": 3
   },
   "file_extension": ".py",
   "mimetype": "text/x-python",
   "name": "python",
   "nbconvert_exporter": "python",
   "pygments_lexer": "ipython3",
   "version": "3.11.2"
  }
 },
 "nbformat": 4,
 "nbformat_minor": 5
}
